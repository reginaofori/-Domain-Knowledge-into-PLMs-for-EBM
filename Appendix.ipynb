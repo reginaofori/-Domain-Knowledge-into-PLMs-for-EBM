{
  "nbformat": 4,
  "nbformat_minor": 0,
  "metadata": {
    "colab": {
      "provenance": [],
      "authorship_tag": "ABX9TyPqj9niD6UNjqxoGOpOso35",
      "include_colab_link": true
    },
    "kernelspec": {
      "name": "python3",
      "display_name": "Python 3"
    },
    "language_info": {
      "name": "python"
    }
  },
  "cells": [
    {
      "cell_type": "markdown",
      "metadata": {
        "id": "view-in-github",
        "colab_type": "text"
      },
      "source": [
        "<a href=\"https://colab.research.google.com/github/reginaofori/-Domain-Knowledge-into-PLMs-for-EBM/blob/main/Appendix.ipynb\" target=\"_parent\"><img src=\"https://colab.research.google.com/assets/colab-badge.svg\" alt=\"Open In Colab\"/></a>"
      ]
    },
    {
      "cell_type": "markdown",
      "source": [
        "#### Haversine Function"
      ],
      "metadata": {
        "id": "byWYr-lAgT-9"
      }
    },
    {
      "cell_type": "code",
      "source": [
        "import math\n",
        "\n",
        "def haversine_distance(coords1, coords2):\n",
        "    \"\"\"\n",
        "    This function calculates the Haversine distance between two points on the earth specified by latitude/longitude.\n",
        "\n",
        "    Parameters:\n",
        "    coords1 (dict): A dictionary containing 'latitude' and 'longitude' of the first location.\n",
        "    coords2 (dict): A dictionary containing 'latitude' and 'longitude' of the second location.\n",
        "\n",
        "    Returns:\n",
        "    float: The Haversine distance between the two locations in kilometers.\n",
        "    \"\"\"\n",
        "\n",
        "    # Convert degrees to radians\n",
        "    RADIANS_PER_DEGREE = math.pi / 180\n",
        "\n",
        "    # Convert latitudes and longitudes to radians\n",
        "    latitude1 = coords1['latitude'] * RADIANS_PER_DEGREE\n",
        "    longitude1 = coords1['longitude'] * RADIANS_PER_DEGREE\n",
        "    latitude2 = coords2['latitude'] * RADIANS_PER_DEGREE\n",
        "    longitude2 = coords2['longitude'] * RADIANS_PER_DEGREE\n",
        "\n",
        "    # Calculate differences in coordinates\n",
        "    d_lat = latitude2 - latitude1\n",
        "    d_lon = longitude2 - longitude1\n",
        "\n",
        "    # Haversine formula to calculate distance between two points on a sphere\n",
        "    a = math.sin(d_lat / 2) ** 2 + math.cos(latitude1) * math.cos(latitude2) * math.sin(d_lon / 2) ** 2\n",
        "    distance = 6371.01 * 2 * math.atan2(math.sqrt(a), math.sqrt(1 - a))\n",
        "\n",
        "    return distance"
      ],
      "metadata": {
        "id": "QH4UzIe0gSvo"
      },
      "execution_count": 1,
      "outputs": []
    },
    {
      "cell_type": "markdown",
      "source": [
        "### Net Present Value  Function"
      ],
      "metadata": {
        "id": "USpxZSsvgxKJ"
      }
    },
    {
      "cell_type": "code",
      "source": [
        "def net_present_value(irr, years, initial_investment, average_yearly_revenue, recurrent_yearly_cost):\n",
        "    \"\"\"\n",
        "    This function calculates the Net Present Value (NPV) of a series of cash flows.\n",
        "\n",
        "    Parameters:\n",
        "    irr (float): The discount rate or interest rate.\n",
        "    years (int): The number of years for the cash flows.\n",
        "    initial_investment (float): The initial investment amount.\n",
        "    average_yearly_revenue (float): The average yearly revenue.\n",
        "    recurrent_yearly_cost (float): The recurrent yearly cost.\n",
        "\n",
        "    Returns:\n",
        "    float: The calculated NPV.\n",
        "    \"\"\"\n",
        "\n",
        "    # Initialize NPV with the negative initial investment\n",
        "    npv = -initial_investment\n",
        "\n",
        "    # Calculate NPV for each year\n",
        "    for i in range(1, years + 1):\n",
        "        # Calculate the net cash flow for the year\n",
        "        cash_flow = average_yearly_revenue - recurrent_yearly_cost\n",
        "\n",
        "        # Discount the cash flow and add it to the NPV\n",
        "        npv += cash_flow / pow(1 + irr, i)\n",
        "\n",
        "    return npv"
      ],
      "metadata": {
        "id": "pDoOkwZegrTh"
      },
      "execution_count": null,
      "outputs": []
    },
    {
      "cell_type": "markdown",
      "source": [
        "### Get Closeby/Cluster Facilities Function"
      ],
      "metadata": {
        "id": "ZJzCXFtShHQP"
      }
    },
    {
      "cell_type": "code",
      "source": [
        "def get_cluster_facilities(terminal_arr, facility_coords):\n",
        "    \"\"\"\n",
        "    This function calculates the haversine distance from a facility to each terminal in a list,\n",
        "    filters out terminals that are more than 150km away, sorts the remaining terminals by distance,\n",
        "    and returns the five closest terminals.\n",
        "\n",
        "    Parameters:\n",
        "    terminal_arr (list): A list of dictionaries, each containing 'coords' key for a terminal.\n",
        "    facility_coords (dict): A dictionary containing 'coords' key for the facility.\n",
        "\n",
        "    Returns:\n",
        "    list: A list of dictionaries for the five closest terminals within 150km, each dictionary contains 'coords' and 'distance'.\n",
        "    \"\"\"\n",
        "\n",
        "    # Calculate the haversine distance from the facility to each terminal\n",
        "    distances = []\n",
        "    for terminal in terminal_arr:\n",
        "        distance = haversine_distance(facility_coords['coords'], terminal['coords'])\n",
        "        terminal['distance'] = distance\n",
        "        distances.append(terminal)\n",
        "\n",
        "    # Filter out terminals that are more than 150km away\n",
        "    filtered_distances = [terminal for terminal in distances if 0 < terminal['distance'] <= 150]\n",
        "\n",
        "    # Sort the terminals by distance, closest first\n",
        "    sorted_distances = sorted(filtered_distances, key=lambda terminal: terminal['distance'])\n",
        "\n",
        "    # Return the five closest terminals\n",
        "    return sorted_distances[:5]"
      ],
      "metadata": {
        "id": "Q1W5om91hBA0"
      },
      "execution_count": null,
      "outputs": []
    },
    {
      "cell_type": "markdown",
      "source": [
        "### Get Development Stratergy per Facilty Function"
      ],
      "metadata": {
        "id": "gjrpVqYVhPov"
      }
    },
    {
      "cell_type": "code",
      "source": [
        "\n",
        "def get_development_type(terrain, oil_volume, is_cluster, crude_to_facility, process_to_facility, process_to_terminal):\n",
        "    \"\"\"\n",
        "    This function determines the development type based on various parameters.\n",
        "\n",
        "    Parameters:\n",
        "    terrain (str): The type of terrain (land, water, swarm).\n",
        "    oil_volume (float): The volume of oil.\n",
        "    is_cluster (bool): Whether it's a cluster.\n",
        "    crude_to_facility (bool): Whether crude is to be transported to the facility.\n",
        "    process_to_facility (bool): Whether processed oil is to be transported to the facility.\n",
        "    process_to_terminal (bool): Whether processed oil is to be transported to the terminal.\n",
        "\n",
        "    Returns:\n",
        "    list: A list containing the development type and an array of development types.\n",
        "    \"\"\"\n",
        "\n",
        "    # Initialize variables\n",
        "    dev_type = \"\"\n",
        "    dev_arr = []\n",
        "\n",
        "    # Define minimum volumes for different terrains\n",
        "    cluster_min_volume_land = 5  # Minimum acceptable Rerservoir volume for Land\n",
        "    cluster_min_volume_water = 20  # Minimum acceptable Rerservoir volume for Water\n",
        "    cluster_min_volume_swarm = 10  # Minimum acceptable Rerservoir volume for Swarm\n",
        "\n",
        "    # Determine development type based on terrain and other parameters\n",
        "    if terrain == \"land\":\n",
        "        if 0 < oil_volume < cluster_min_volume_land:\n",
        "            dev_type = \"AL4\" if is_cluster else \"AL5\"\n",
        "        else:\n",
        "            if crude_to_facility:\n",
        "                dev_type = \"AL1\"\n",
        "            if process_to_facility:\n",
        "                dev_type = \"AL2\"\n",
        "            if process_to_terminal:\n",
        "                dev_type = \"AL3\"\n",
        "        dev_arr.append(dev_type)\n",
        "\n",
        "    elif terrain == \"water\":\n",
        "        if 0 < oil_volume < cluster_min_volume_water:\n",
        "            dev_type = \"AW4\" if is_cluster else \"AW5\"\n",
        "        else:\n",
        "            if crude_to_facility:\n",
        "                dev_type = \"AW1\"\n",
        "            if process_to_terminal:\n",
        "                dev_type = \"AW3\"\n",
        "        dev_arr.append(dev_type)\n",
        "\n",
        "    elif terrain == \"swarm\":\n",
        "        if 0 < oil_volume < cluster_min_volume_swarm:\n",
        "            dev_type = \"AS4\" if is_cluster else \"AS5\"\n",
        "        else:\n",
        "            if crude_to_facility:\n",
        "                dev_type = \"AS1\"\n",
        "            if process_to_facility:\n",
        "                dev_type = \"AS2\"\n",
        "            if process_to_terminal:\n",
        "                dev_type = \"AS3\"\n",
        "        dev_arr.append(dev_type)\n",
        "\n",
        "    return [dev_type, dev_arr]"
      ],
      "metadata": {
        "id": "ljIAsVSKhKEk"
      },
      "execution_count": null,
      "outputs": []
    },
    {
      "cell_type": "markdown",
      "source": [
        "### Completion Cost Function"
      ],
      "metadata": {
        "id": "6SNQo4cqhXdD"
      }
    },
    {
      "cell_type": "code",
      "source": [
        "\n",
        "def completion_cost(terrain, new_wells, enterable_wells):\n",
        "    \"\"\"\n",
        "    This function calculates the completion cost based on the terrain and the number of new and enterable wells.\n",
        "\n",
        "    Parameters:\n",
        "    terrain (str): The type of terrain (land, water, swarm).\n",
        "    new_wells (str): The number of new wells as a string.\n",
        "    enterable_wells (str): The number of enterable wells as a string.\n",
        "\n",
        "    Returns:\n",
        "    float: The calculated completion cost.\n",
        "    \"\"\"\n",
        "    cost_land = 5  # Completion cost onshore\n",
        "    cost_water = 20  # Completion cost offshore\n",
        "    cost_swarm = 10  # Completion cost swarm\n",
        "\n",
        "    # Convert the number of wells from string to integer\n",
        "    new_wells = int(new_wells)\n",
        "    enterable_wells = int(enterable_wells)\n",
        "\n",
        "    # Calculate the completion cost based on the terrain\n",
        "    if terrain.lower() == \"land\":\n",
        "        return new_wells * cost_land + enterable_wells * 0.5 * cost_land\n",
        "    elif terrain.lower() == \"water\":\n",
        "        return new_wells * cost_water + enterable_wells * 0.5 * cost_water\n",
        "    elif terrain.lower() == \"swarm\":\n",
        "        return new_wells * cost_swarm + enterable_wells * 0.5 * cost_swarm"
      ],
      "metadata": {
        "id": "8JUPmRxwhUJO"
      },
      "execution_count": null,
      "outputs": []
    },
    {
      "cell_type": "markdown",
      "source": [
        "####\n",
        "\n",
        "+----------------------------------+\n",
        "|         Research Strategy        |\n",
        "|                                  |\n",
        "| +----------------------------+  |\n",
        "| |    Case Study Approach     |  |\n",
        "| |                            |  |\n",
        "| | +---------+  +-----------+ |  |\n",
        "| | | Phase 1 |  |  Phase 2   | |  |\n",
        "| | |         |  |           | |  |\n",
        "| | |Lit. Rev.|  |  Survey    | |  |\n",
        "| | | & Expert|  | of Oil     | |  |\n",
        "| | |Interviews|  | Field Ops.| |  |\n",
        "| | +---------+  +-----------+ |  |\n",
        "| +----------------------------+  |\n",
        "+----------------------------------+\n",
        "                |\n",
        "                v\n",
        "+----------------------------------+\n",
        "|    Data Collection Methods       |\n",
        "|                                  |\n",
        "| +----------+  +---------+  +----+|\n",
        "| | Literature|  | Expert  |  |Survey|\n",
        "| | Review    |  |Interviews|  |     |\n",
        "| +----------+  +---------+  +----+|\n",
        "+----------------------------------+\n",
        "                |\n",
        "                v\n",
        "+----------------------------------+\n",
        "| Data Preparation and Formulation |\n",
        "|                                  |\n",
        "| +-------------------------------+|\n",
        "| | Data Extraction & JSON Format  |\n",
        "| | Function Development (Harvesine,|\n",
        "| | NPV, Well Completion Cost)     |\n",
        "| +-------------------------------+|\n",
        "+----------------------------------+\n",
        "                |\n",
        "                v\n",
        "+----------------------------------+\n",
        "|         Data Analysis            |\n",
        "|                                  |\n",
        "| +-------------+  +-------------+ |\n",
        "| | Development |  |  AHP Model  | |\n",
        "| | Strategy    |  |             | |\n",
        "| | Selection & |  |             | |\n",
        "| | NPV Analysis|  |             | |\n",
        "| +-------------+  +-------------+ |\n",
        "|                                  |\n",
        "|        Combined Analysis         |\n",
        "+----------------------------------+\n"
      ],
      "metadata": {
        "id": "ynHMDT1_mGLq"
      }
    },
    {
      "cell_type": "code",
      "source": [],
      "metadata": {
        "id": "DZWlYEtXmDja"
      },
      "execution_count": null,
      "outputs": []
    }
  ]
}